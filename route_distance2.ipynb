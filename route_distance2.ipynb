{
 "cells": [
  {
   "cell_type": "markdown",
   "metadata": {},
   "source": [
    "# this Notebook shows how to measure the road route distance betweeen two places if cordinates are given"
   ]
  },
  {
   "cell_type": "code",
   "execution_count": 6,
   "metadata": {},
   "outputs": [],
   "source": [
    "import pandas as pd # to load cities dataset\n",
    "import requests\n",
    "import json\n",
    "import pdb\n",
    "from geopy import distance # to calculate distance on the surface"
   ]
  },
  {
   "cell_type": "markdown",
   "metadata": {},
   "source": [
    "# need to test\n",
    "!pip install osrm\n",
    "import osrm\n",
    "result = osrm.simple_route([21.0566163803209,42.004088575972], [20.9574645547597, 41.5286973392856],\n",
    "                      output='route', overview=\"full\", geometry='wkt')"
   ]
  },
  {
   "cell_type": "code",
   "execution_count": 7,
   "metadata": {},
   "outputs": [],
   "source": [
    "data=pd.read_excel(r\"C:\\Users\\rmallik\\Downloads\\New folder\\data\\Book2.xlsx\")\n",
    "#data"
   ]
  },
  {
   "cell_type": "markdown",
   "metadata": {},
   "source": [
    "# displacement on surface"
   ]
  },
  {
   "cell_type": "code",
   "execution_count": null,
   "metadata": {},
   "outputs": [],
   "source": [
    "#\n",
    "d = distance.distance((13.009241,77.551631), (13.056618,77.613100))\n",
    "d.km"
   ]
  },
  {
   "cell_type": "markdown",
   "metadata": {},
   "source": [
    "# Route Distance "
   ]
  },
  {
   "cell_type": "markdown",
   "metadata": {},
   "source": [
    "# reference http://project-osrm.org/docs/v5.5.1/api/#route-service\n"
   ]
  },
  {
   "cell_type": "code",
   "execution_count": null,
   "metadata": {},
   "outputs": [],
   "source": [
    "#https://stackoverflow.com/questions/48221046/osrm-giving-wrong-response-for-distance-between-2-points\n",
    "# cordinates should be long,latitude order\n",
    "\n",
    "url=f\"\"\"https://router.project-osrm.org/route/v1/driving/{data.loc[0, \"School Location_langitude\"]},{data.loc[0, \"School Location_latitude\"]};{data.loc[10, \"School Location_langitude\"]},{data.loc[10, \"School Location_latitude\"]}?overview=false\"\"\"\n",
    "url='http://router.project-osrm.org/route/v1/driving/77.551631,13.009241;77.6131,13.056618?overview=false'\n",
    "url\n",
    "\n",
    "r = requests.get(url)\n",
    "r.content\n",
    "\n",
    "payload = {\"steps\":\"true\",\"geometries\":\"geojson\"}\n",
    "\n",
    "response = requests.get(url,params=payload)\n",
    "\n",
    "routes = json.loads(response.content)\n",
    "route_1 = routes.get(\"routes\")[0]\n",
    "route_1[\"distance\"]\n"
   ]
  },
  {
   "cell_type": "markdown",
   "metadata": {},
   "source": [
    "## route distance to sum of all the distance travelled by car"
   ]
  },
  {
   "cell_type": "code",
   "execution_count": null,
   "metadata": {},
   "outputs": [],
   "source": [
    "Result_list=[]\n",
    "prev_sl=0\n",
    "for rt in data[\"Route name\"].unique():\n",
    "    data_rt=data[data[\"Route name\"]==rt]\n",
    "    dist_rt=0\n",
    "    \n",
    "    for i in range(len(data_rt)-1) :            \n",
    "            #print(data_rt.loc[i, \"School Location_latitude\"],data_rt.loc[i, \"School Location_langitude\"],data_rt.loc[i+1, \"School Location_latitude\"],data_rt.loc[i+1, \"School Location_langitude\"])\n",
    "            url=f\"\"\"https://router.project-osrm.org/route/v1/driving/{data_rt.loc[i+prev_sl, \"School Location_latitude\"]},{data_rt.loc[i+prev_sl, \"School Location_langitude\"]};{data_rt.loc[i+prev_sl+1, \"School Location_latitude\"]},{data_rt.loc[i+prev_sl+1, \"School Location_langitude\"]}?overview=false\"\"\"\n",
    "            response=requests.get(url)\n",
    "            routes = json.loads(response.content)\n",
    "            route_1 = routes.get(\"routes\")[0]\n",
    "            dist_v=route_1[\"distance\"]\n",
    "            dist_rt+=float(dist_v)\n",
    "            #print(url,dist_v)\n",
    "    prev_sl=prev_sl+len(data_rt)\n",
    "    Result_list.append([rt,dist_rt])\n"
   ]
  },
  {
   "cell_type": "code",
   "execution_count": null,
   "metadata": {},
   "outputs": [],
   "source": [
    "df=pd.DataFrame(Result_list,columns=[\"Route_name\",\"Distance\"])\n",
    "df.to_excel(\"output.xlsx\")\n"
   ]
  },
  {
   "cell_type": "code",
   "execution_count": 10,
   "metadata": {},
   "outputs": [],
   "source": [
    "Result_list=[]\n",
    "prev_sl=0\n",
    "for rt in data[\"Route name\"].unique():\n",
    "    data_rt=data[data[\"Route name\"]==rt]\n",
    "    dist_rt=0 \n",
    "    ind_list=data_rt.index.values\n",
    "    \n",
    "    url=f\"\"\"https://router.project-osrm.org/route/v1/driving/77.551631,13.009241;{data_rt.loc[ind_list[0], \"School Location_latitude\"]},{data_rt.loc[ind_list[0], \"School Location_langitude\"]}?overview=false\"\"\"\n",
    "    response=requests.get(url)\n",
    "    routes = json.loads(response.content)\n",
    "    route_1 = routes.get(\"routes\")[0]\n",
    "    dist_v=route_1[\"distance\"]\n",
    "    dist_rt+=float(dist_v)/1000\n",
    "    data.loc[ind_list[0],\"Distance\"]=dist_rt\n",
    "\n",
    "    \n",
    "    for i  in range(len(ind_list)-1): \n",
    "\n",
    "            #print(rt,i,data_rt.loc[ind_list[i], \"School Location_latitude\"],data_rt.loc[ind_list[i], \"School Location_langitude\"],data_rt.loc[ind_list[i+1], \"School Location_latitude\"],data_rt.loc[ind_list[i+1], \"School Location_langitude\"])\n",
    "            url=f\"\"\"https://router.project-osrm.org/route/v1/driving/{data_rt.loc[ind_list[i], \"School Location_latitude\"]},{data_rt.loc[ind_list[i], \"School Location_langitude\"]};{data_rt.loc[ind_list[i+1], \"School Location_latitude\"]},{data_rt.loc[ind_list[i+1], \"School Location_langitude\"]}?overview=false\"\"\"\n",
    "            response=requests.get(url)\n",
    "            routes = json.loads(response.content)\n",
    "            route_1 = routes.get(\"routes\")[0]\n",
    "            dist_v=route_1[\"distance\"]\n",
    "            dist_rt+=float(dist_v)/1000\n",
    "            data.loc[ind_list[i+1],\"Distance\"]=dist_rt\n",
    "            #print(url,dist_v)\n",
    "    prev_sl=prev_sl+len(data_rt)\n",
    "    \n",
    "    \n",
    "    url=f\"\"\"https://router.project-osrm.org/route/v1/driving/77.551631,13.009241;{data_rt.loc[ind_list[i+1], \"School Location_latitude\"]},{data_rt.loc[ind_list[i+1], \"School Location_langitude\"]}?overview=false\"\"\"\n",
    "    response=requests.get(url)\n",
    "    routes = json.loads(response.content)\n",
    "    route_1 = routes.get(\"routes\")[0]\n",
    "    dist_v=route_1[\"distance\"]\n",
    "    dist_rt+=float(dist_v)/1000\n",
    "    data.loc[ind_list[i+1],\"Distance_last\"]=dist_rt\n",
    "\n",
    "    \n",
    "    Result_list.append([rt,dist_rt])\n"
   ]
  },
  {
   "cell_type": "code",
   "execution_count": 13,
   "metadata": {},
   "outputs": [
    {
     "data": {
      "text/plain": [
       "[['Huskur', 115.26240000000001],\n",
       " ['Jalahalli', 66.4795],\n",
       " ['Bagalagunte', 156.5053],\n",
       " ['Sondekoppa', 135.11329999999998],\n",
       " ['Hesaraghatta', 102.9067],\n",
       " ['Summanahalli', 141.90900000000002],\n",
       " ['Manjunathanagara', 91.5928],\n",
       " ['Bagalur', 182.76869999999997],\n",
       " ['Devanahalli', 96.3051],\n",
       " ['Kothanur', 152.3487],\n",
       " ['Yelahanka', 71.07249999999999],\n",
       " ['Thanisandra', 139.6506],\n",
       " ['Ganganagar', 28.5531],\n",
       " ['Srirampura', 22.3963],\n",
       " ['R.T.Nagar', 64.45259999999999],\n",
       " ['Shivajinagar', 26.209999999999997],\n",
       " ['SS Garden', 25.859700000000004],\n",
       " ['D J Halli', 267.51649999999995],\n",
       " ['Jakkur', 42.5522],\n",
       " ['Vidyaranyapura', 64.19130000000001],\n",
       " ['Frazer town', 29.851],\n",
       " ['T.Dasarahalli', 97.67150000000001],\n",
       " ['Peenya', 61.0467],\n",
       " ['LR Puram', 41.7665],\n",
       " ['Kamalanagar', 18.9428],\n",
       " ['Malleshwaram', 20.9661],\n",
       " ['Yeshwanthpura', 28.049999999999997]]"
      ]
     },
     "execution_count": 13,
     "metadata": {},
     "output_type": "execute_result"
    }
   ],
   "source": [
    "Result_list"
   ]
  },
  {
   "cell_type": "code",
   "execution_count": 14,
   "metadata": {},
   "outputs": [],
   "source": [
    "total_distance=pd.DataFrame(Result_list,columns=[\"route_name\",\"Distance_travelled\"])\n",
    "total_distance.to_excel(\"total_distance.xlsx\")\n",
    "data.to_excel(\"Individual_distance.xlsx\")"
   ]
  }
 ],
 "metadata": {
  "kernelspec": {
   "display_name": "Python 3",
   "language": "python",
   "name": "python3"
  },
  "language_info": {
   "codemirror_mode": {
    "name": "ipython",
    "version": 3
   },
   "file_extension": ".py",
   "mimetype": "text/x-python",
   "name": "python",
   "nbconvert_exporter": "python",
   "pygments_lexer": "ipython3",
   "version": "3.8.3"
  }
 },
 "nbformat": 4,
 "nbformat_minor": 4
}
