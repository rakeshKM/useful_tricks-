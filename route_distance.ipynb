{
 "cells": [
  {
   "cell_type": "markdown",
   "metadata": {},
   "source": [
    "# this Notebook shows how to measure the road route distance betweeen two places if cordinates are given"
   ]
  },
  {
   "cell_type": "code",
   "execution_count": 137,
   "metadata": {},
   "outputs": [],
   "source": [
    "import pandas as pd # to load cities dataset\n",
    "import requests\n",
    "import json\n",
    "from geopy import distance # to calculate distance on the surface"
   ]
  },
  {
   "cell_type": "markdown",
   "metadata": {},
   "source": [
    "# need to test\n",
    "!pip install osrm\n",
    "import osrm\n",
    "result = osrm.simple_route([21.0566163803209,42.004088575972], [20.9574645547597, 41.5286973392856],\n",
    "                      output='route', overview=\"full\", geometry='wkt')"
   ]
  },
  {
   "cell_type": "code",
   "execution_count": 140,
   "metadata": {},
   "outputs": [
    {
     "data": {
      "text/plain": [
       "8.481053325259792"
      ]
     },
     "execution_count": 140,
     "metadata": {},
     "output_type": "execute_result"
    }
   ],
   "source": [
    "data=pd.read_excel(r\"C:\\Users\\rmallik\\Downloads\\New folder\\data\\ap.xlsx\")\n",
    "data"
   ]
  },
  {
   "cell_type": "markdown",
   "metadata": {},
   "source": [
    "# displacement on surface"
   ]
  },
  {
   "cell_type": "code",
   "execution_count": 141,
   "metadata": {},
   "outputs": [
    {
     "data": {
      "text/plain": [
       "8.481053325259792"
      ]
     },
     "execution_count": 141,
     "metadata": {},
     "output_type": "execute_result"
    }
   ],
   "source": [
    "#\n",
    "d = distance.distance((13.009241,77.551631), (13.056618,77.613100))\n",
    "d.km"
   ]
  },
  {
   "cell_type": "markdown",
   "metadata": {},
   "source": [
    "# Route Distance "
   ]
  },
  {
   "cell_type": "markdown",
   "metadata": {},
   "source": [
    "# reference http://project-osrm.org/docs/v5.5.1/api/#route-service\n"
   ]
  },
  {
   "cell_type": "code",
   "execution_count": 142,
   "metadata": {},
   "outputs": [],
   "source": [
    "#https://stackoverflow.com/questions/48221046/osrm-giving-wrong-response-for-distance-between-2-points\n",
    "# cordinates should be long,latitude order\n",
    "\n",
    "url=f\"\"\"https://router.project-osrm.org/route/v1/driving/{data.loc[0, \"School Location_langitude\"]},{data.loc[0, \"School Location_latitude\"]};{data.loc[10, \"School Location_langitude\"]},{data.loc[10, \"School Location_latitude\"]}?overview=false\"\"\"\n",
    "url='http://router.project-osrm.org/route/v1/driving/77.551631,13.009241;77.6131,13.056618?overview=false'\n",
    "url\n",
    "\n",
    "r = requests.get(url)\n",
    "r.content\n",
    "\n",
    "payload = {\"steps\":\"true\",\"geometries\":\"geojson\"}\n",
    "\n",
    "response = requests.get(url,params=payload)\n",
    "\n",
    "routes = json.loads(response.content)\n",
    "route_1 = routes.get(\"routes\")[0]\n",
    "route_1[\"distance\"]\n"
   ]
  },
  {
   "cell_type": "markdown",
   "metadata": {},
   "source": [
    "## route distance to sum of all the distance travelled by car"
   ]
  },
  {
   "cell_type": "code",
   "execution_count": 132,
   "metadata": {},
   "outputs": [],
   "source": [
    "Result_list=[]\n",
    "prev_sl=0\n",
    "for rt in data[\"Route name\"].unique():\n",
    "    data_rt=data[data[\"Route name\"]==rt]\n",
    "    dist_rt=0\n",
    "    \n",
    "    for i in range(len(data_rt)-1) :            \n",
    "            #print(data_rt.loc[i, \"School Location_latitude\"],data_rt.loc[i, \"School Location_langitude\"],data_rt.loc[i+1, \"School Location_latitude\"],data_rt.loc[i+1, \"School Location_langitude\"])\n",
    "            url=f\"\"\"https://router.project-osrm.org/route/v1/driving/{data_rt.loc[i+prev_sl, \"School Location_latitude\"]},{data_rt.loc[i+prev_sl, \"School Location_langitude\"]};{data_rt.loc[i+prev_sl+1, \"School Location_latitude\"]},{data_rt.loc[i+prev_sl+1, \"School Location_langitude\"]}?overview=false\"\"\"\n",
    "            response=requests.get(url)\n",
    "            routes = json.loads(response.content)\n",
    "            route_1 = routes.get(\"routes\")[0]\n",
    "            dist_v=route_1[\"distance\"]\n",
    "            dist_rt+=float(dist_v)\n",
    "            #print(url,dist_v)\n",
    "    prev_sl=prev_sl+len(data_rt)\n",
    "    Result_list.append([rt,dist_rt])\n"
   ]
  },
  {
   "cell_type": "code",
   "execution_count": 134,
   "metadata": {},
   "outputs": [],
   "source": [
    "df=pd.DataFrame(Result_list,columns=[\"Route_name\",\"Distance\"])\n",
    "df.to_excel(\"output.xlsx\")"
   ]
  },
  {
   "cell_type": "code",
   "execution_count": 135,
   "metadata": {},
   "outputs": [
    {
     "data": {
      "text/html": [
       "<div>\n",
       "<style scoped>\n",
       "    .dataframe tbody tr th:only-of-type {\n",
       "        vertical-align: middle;\n",
       "    }\n",
       "\n",
       "    .dataframe tbody tr th {\n",
       "        vertical-align: top;\n",
       "    }\n",
       "\n",
       "    .dataframe thead th {\n",
       "        text-align: right;\n",
       "    }\n",
       "</style>\n",
       "<table border=\"1\" class=\"dataframe\">\n",
       "  <thead>\n",
       "    <tr style=\"text-align: right;\">\n",
       "      <th></th>\n",
       "      <th>Route_name</th>\n",
       "      <th>Distance</th>\n",
       "    </tr>\n",
       "  </thead>\n",
       "  <tbody>\n",
       "    <tr>\n",
       "      <th>0</th>\n",
       "      <td>Kothanur</td>\n",
       "      <td>152474.0</td>\n",
       "    </tr>\n",
       "    <tr>\n",
       "      <th>1</th>\n",
       "      <td>LR Puram</td>\n",
       "      <td>41504.0</td>\n",
       "    </tr>\n",
       "  </tbody>\n",
       "</table>\n",
       "</div>"
      ],
      "text/plain": [
       "  Route_name  Distance\n",
       "0   Kothanur  152474.0\n",
       "1   LR Puram   41504.0"
      ]
     },
     "execution_count": 135,
     "metadata": {},
     "output_type": "execute_result"
    }
   ],
   "source": [
    "df"
   ]
  }
 ],
 "metadata": {
  "kernelspec": {
   "display_name": "Python 3",
   "language": "python",
   "name": "python3"
  },
  "language_info": {
   "codemirror_mode": {
    "name": "ipython",
    "version": 3
   },
   "file_extension": ".py",
   "mimetype": "text/x-python",
   "name": "python",
   "nbconvert_exporter": "python",
   "pygments_lexer": "ipython3",
   "version": "3.8.3"
  }
 },
 "nbformat": 4,
 "nbformat_minor": 4
}
